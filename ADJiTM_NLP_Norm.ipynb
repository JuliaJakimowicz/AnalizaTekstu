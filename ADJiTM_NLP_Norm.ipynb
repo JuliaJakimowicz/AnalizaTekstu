{
  "cells": [
    {
      "cell_type": "markdown",
      "metadata": {
        "id": "view-in-github",
        "colab_type": "text"
      },
      "source": [
        "<a href=\"https://colab.research.google.com/github/JuliaJakimowicz/AnalizaTekstu/blob/main/ADJiTM_NLP_Norm.ipynb\" target=\"_parent\"><img src=\"https://colab.research.google.com/assets/colab-badge.svg\" alt=\"Open In Colab\"/></a>"
      ]
    },
    {
      "cell_type": "markdown",
      "metadata": {
        "id": "wwqeq2O7SF5G"
      },
      "source": [
        "## Przygotowanie (*pre-processing*) tekstu"
      ]
    },
    {
      "cell_type": "markdown",
      "metadata": {
        "id": "j6FuFgeLSF5P"
      },
      "source": [
        "### Normalizacja tekstu"
      ]
    },
    {
      "cell_type": "markdown",
      "metadata": {
        "id": "AB33gbmoxQCU"
      },
      "source": [
        "#### Wszystkie znaki małe"
      ]
    },
    {
      "cell_type": "code",
      "execution_count": 7,
      "metadata": {
        "id": "SWp6z60pSF5P",
        "outputId": "e84c0a08-e79d-44c1-d114-a1a66bee0635",
        "colab": {
          "base_uri": "https://localhost:8080/"
        }
      },
      "outputs": [
        {
          "output_type": "stream",
          "name": "stdout",
          "text": [
            "<b>she</b> woke up at       6 a.m. it's so early!  she was only 10% awake and began drinking coffee in front of her computer.\n",
            "to jest 4. przysłowie z przysłów 1-10:      \"św. bartłomiej pogodny, jesień pogodna\" \n",
            "<B>SHE</B> WOKE UP AT       6 A.M. IT'S SO EARLY!  SHE WAS ONLY 10% AWAKE AND BEGAN DRINKING COFFEE IN FRONT OF HER COMPUTER.\n",
            "TO JEST 4. PRZYSŁOWIE Z PRZYSŁÓW 1-10:      \"ŚW. BARTŁOMIEJ POGODNY, JESIEŃ POGODNA\" \n"
          ]
        }
      ],
      "source": [
        "tekstANG = \"<b>She</b> woke up at       6 A.M. It\\'s so early!  She was only 10% awake and began drinking coffee in front of her computer.\"\n",
        "tekstPOL = \"To jest 4. przysłowie z przysłów 1-10:      \\\"Św. Bartłomiej pogodny, jesień pogodna\\\" \"\n",
        "\n",
        "\n",
        "# TODO\n",
        "\n",
        "malyANG = tekstANG.lower()\n",
        "malyPOL = tekstPOL.lower()\n",
        "wielkiAND=tekstANG.upper()\n",
        "wielkiPOL=tekstPOL.upper()\n",
        "\n",
        "print(malyANG)\n",
        "print(malyPOL)\n",
        "print(wielkiAND)\n",
        "print(wielkiPOL)"
      ]
    },
    {
      "cell_type": "markdown",
      "metadata": {
        "id": "QTeck1r6xQCV"
      },
      "source": [
        "#### Normalizacja skrótów"
      ]
    },
    {
      "cell_type": "code",
      "execution_count": 26,
      "metadata": {
        "id": "kAMCH7RXxQCW"
      },
      "outputs": [],
      "source": [
        "skroty = {\n",
        "    \"%\": \"percent\",\n",
        "    \"it's\": \"it is\",\n",
        "    \"św.\": \"święty\",\n",
        "    \"tzn.\": \"to znaczy\"\n",
        "}"
      ]
    },
    {
      "cell_type": "code",
      "execution_count": 30,
      "metadata": {
        "id": "q7fLvsU5xQCX",
        "outputId": "cd58a586-4489-4f81-dd2c-23e10966d1f7",
        "colab": {
          "base_uri": "https://localhost:8080/"
        }
      },
      "outputs": [
        {
          "output_type": "stream",
          "name": "stdout",
          "text": [
            "<b>she</b> woke up at       6 a.m. it is so early!  she was only 10percent awake and began drinking coffee in front of her computer.\n",
            "to jest 4. przysłowie z przysłów 1-10:      \"święty bartłomiej pogodny, jesień pogodna\" \n"
          ]
        }
      ],
      "source": [
        "# TODO\n",
        "male_rozw_ANG=malyANG\n",
        "\n",
        "for skrot, rozw in skroty.items():\n",
        "  male_rozw_ANG = male_rozw_ANG.replace(skrot, rozw)\n",
        "\n",
        "print(male_rozw_ANG)\n",
        "\n",
        "male_rozw_POL=malyPOL\n",
        "\n",
        "for skrot, rozw in skroty.items():\n",
        "  male_rozw_POL = male_rozw_POL.replace(skrot, rozw)\n",
        "\n",
        "print(male_rozw_POL)\n"
      ]
    },
    {
      "cell_type": "markdown",
      "metadata": {
        "id": "RNjDUFFxxQCX"
      },
      "source": [
        "#### Usunięcie interpunkcji"
      ]
    },
    {
      "cell_type": "code",
      "execution_count": 38,
      "metadata": {
        "id": "fMV04JVSSF5Q",
        "outputId": "c7d59c97-179d-4f99-be7e-873ea96c4a69",
        "colab": {
          "base_uri": "https://localhost:8080/"
        }
      },
      "outputs": [
        {
          "output_type": "stream",
          "name": "stdout",
          "text": [
            "bsheb woke up at       6 am it is so early  she was only 10percent awake and began drinking coffee in front of her computer\n",
            "to jest 4 przysłowie z przysłów 110      święty bartłomiej pogodny jesień pogodna \n"
          ]
        }
      ],
      "source": [
        "# TODO\n",
        "import re\n",
        "print(re.sub(r\"[^\\w\\s]\", \"\", male_rozw_ANG))\n",
        "print(re.sub(r\"[^\\w\\s]\", \"\", male_rozw_POL))\n"
      ]
    },
    {
      "cell_type": "code",
      "execution_count": null,
      "metadata": {
        "id": "oDHNdxhb0aD3"
      },
      "outputs": [],
      "source": [
        "# import string\n",
        "# string.punctuation"
      ]
    },
    {
      "cell_type": "code",
      "execution_count": 39,
      "metadata": {
        "id": "Y0kJkbf_xQCZ",
        "outputId": "ef2e9970-3603-458a-ba60-271ae03d9b05",
        "colab": {
          "base_uri": "https://localhost:8080/"
        }
      },
      "outputs": [
        {
          "output_type": "stream",
          "name": "stdout",
          "text": [
            ".,!?:;~=-+*/<>()[]{}%^\"'`#$&@_|\n",
            "  !?:;~=-  /<>  []{}%^\" `#$&@_|\n"
          ]
        }
      ],
      "source": [
        "print(\".,!?:;~=-+*/<>()[]{}%^\\\"'`#$&@_|\")\n",
        "print(re.sub(r\"['-,.]\", \" \", \".,!?:;~=-+*/<>()[]{}%^\\\"'`#$&@_|\"))"
      ]
    },
    {
      "cell_type": "code",
      "execution_count": 45,
      "metadata": {
        "id": "zfsDWulD0U-c",
        "outputId": "45de8abb-4622-4c44-d66d-d77c04843e72",
        "colab": {
          "base_uri": "https://localhost:8080/"
        }
      },
      "outputs": [
        {
          "output_type": "stream",
          "name": "stdout",
          "text": [
            ".,!?:;~=-+*/<>()[]{}%^\"'`#$&@_|\n",
            "  !?:;~= +*/<>()[]{}%^\" `#$&@_|\n"
          ]
        }
      ],
      "source": [
        "print(\".,!?:;~=-+*/<>()[]{}%^\\\"'`#$&@_|\")\n",
        "# TODO\n",
        "print(re.sub(r\"['\\-,.]\", \" \", \".,!?:;~=-+*/<>()[]{}%^\\\"'`#$&@_|\"))"
      ]
    },
    {
      "cell_type": "code",
      "execution_count": 49,
      "metadata": {
        "id": "LipnaGk-0U-c",
        "outputId": "51e42a5e-e5b1-4dc5-9dbd-31529ce7fafd",
        "colab": {
          "base_uri": "https://localhost:8080/"
        }
      },
      "outputs": [
        {
          "output_type": "stream",
          "name": "stdout",
          "text": [
            "t.,!\\?:;~=-+*/<>()[]{}%^\"'`#$&@_|o\n",
            "t                                o\n"
          ]
        }
      ],
      "source": [
        "print(\"t.,!\\?:;~=-+*/<>()[]{}%^\\\"'`#$&@_|o\")\n",
        "print(re.sub(r\"[\\\\.,!?:;~=\\-+*/<>()[\\]{}%^\\\"'`#$&@_|]\", \" \", \"t.,!\\?:;~=-+*/<>()[]{}%^\\\"'`#$&@_|o\"))\n",
        "# TODO"
      ]
    },
    {
      "cell_type": "markdown",
      "metadata": {
        "id": "TYCOMgRWxQCa"
      },
      "source": [
        "#### Usunięcie znaków specjalnych"
      ]
    },
    {
      "cell_type": "code",
      "execution_count": 63,
      "metadata": {
        "id": "THjHrBYjSF5Q",
        "outputId": "5aa1d538-b92e-459a-b432-af985731e887",
        "colab": {
          "base_uri": "https://localhost:8080/"
        }
      },
      "outputs": [
        {
          "output_type": "stream",
          "name": "stdout",
          "text": [
            "she woke up at       6 a.m. it is so early!  she was only 10percent awake and began drinking coffee in front of her computer.\n",
            "<b>she</b> woke up at       6 a.m. it is so early!  she was only 10percent awake and began drinking coffee in front of her computer.\n"
          ]
        }
      ],
      "source": [
        "# znaczniki html\n",
        "\n",
        "# TODO\n",
        "zawartosc = re.sub(r'<[^>]+>', '',male_rozw_ANG)\n",
        "print(zawartosc)\n",
        "print(male_rozw_ANG)\n"
      ]
    },
    {
      "cell_type": "code",
      "execution_count": 74,
      "metadata": {
        "id": "jnp_VvzLSF5Q",
        "outputId": "47a04845-5eaa-41d4-f8b5-e277ab039243",
        "colab": {
          "base_uri": "https://localhost:8080/"
        }
      },
      "outputs": [
        {
          "output_type": "stream",
          "name": "stdout",
          "text": [
            "a\tbęc\n",
            "c\n",
            "abęcc\n",
            "<b>She</b> woke up at 6 A.M. It's so early! She was only 10% awake and began drinking coffee in front of her computer.\n"
          ]
        }
      ],
      "source": [
        "# usunecie znaków białych (tabulator, znaki przełamania linii)\n",
        "\n",
        "print(\"a\\tbęc\\nc\")\n",
        "# TODO\n",
        "bialeZnaki= re.sub(r'\\s', '', \"a\\tbęc\\nc\")\n",
        "print(bialeZnaki)\n",
        "\n",
        "wzorzec=r\"\\s+\"\n",
        "print(re.sub(wzorzec, \" \", tekstANG))"
      ]
    },
    {
      "cell_type": "code",
      "execution_count": 76,
      "metadata": {
        "id": "9f-aSRU2xQCb",
        "outputId": "1b39f8d6-e935-43a0-a7ff-2c463744d5fc",
        "colab": {
          "base_uri": "https://localhost:8080/"
        }
      },
      "outputs": [
        {
          "output_type": "stream",
          "name": "stdout",
          "text": [
            "<b>She</b> woke up at        A.M. It's so early!  She was only % awake and began drinking coffee in front of her computer.\n"
          ]
        }
      ],
      "source": [
        "# usunięcie wartości numerycznych\n",
        "\n",
        "# TODO\n",
        "numeryczne=re.sub(r'\\d','',tekstANG)\n",
        "print(numeryczne)"
      ]
    },
    {
      "cell_type": "code",
      "execution_count": 81,
      "metadata": {
        "id": "ZaJZ7eyVSF5Q",
        "outputId": "b204808a-cb13-4926-a96b-8c60352b19c4",
        "colab": {
          "base_uri": "https://localhost:8080/"
        }
      },
      "outputs": [
        {
          "output_type": "stream",
          "name": "stdout",
          "text": [
            "Abecadł  pieca spadło, ziemię hukło,rozsypał   kątach, strasznie potłukło\n"
          ]
        }
      ],
      "source": [
        "# usunięcie pojedynczych liter, przyimków, zaimków itp.\n",
        "abecadlo = \"Abecadło z pieca spadło, o ziemię hukło,rozsypało się po kątach, strasznie się potłukło\"\n",
        "# TODO\n",
        "wzorzec=r'\\s?(z|o|się|po)\\s'\n",
        "print(re.sub(wzorzec, ' ', abecadlo))"
      ]
    },
    {
      "cell_type": "markdown",
      "metadata": {
        "id": "vQ8oMWp4xQCb"
      },
      "source": [
        "#### Wyodrębnienie tokenów"
      ]
    },
    {
      "cell_type": "code",
      "execution_count": 87,
      "metadata": {
        "id": "8rlBVnP1SF5R",
        "outputId": "2afc7e89-e9f6-49a9-bbe4-ed7f86e861b7",
        "colab": {
          "base_uri": "https://localhost:8080/"
        }
      },
      "outputs": [
        {
          "output_type": "stream",
          "name": "stdout",
          "text": [
            "['Abecadło', 'z', 'pieca', 'spadło', 'o', 'ziemię', 'hukło', 'rozsypało', 'się', 'po', 'kątach', 'strasznie', 'się', 'potłukło']\n"
          ]
        }
      ],
      "source": [
        "# TODO\n",
        "tokeny=re.findall(r'\\w+', abecadlo)\n",
        "print(tokeny)"
      ]
    },
    {
      "cell_type": "markdown",
      "metadata": {
        "id": "0kcBeFH5xQCb"
      },
      "source": [
        "#### Stop lista"
      ]
    },
    {
      "cell_type": "code",
      "execution_count": 85,
      "metadata": {
        "id": "i1gpWnIVSF5R"
      },
      "outputs": [],
      "source": [
        "tokeny = abecadlo.split()\n",
        "# tokeny = [\"abecadło\", \"z\", \"pieca\", \"spadło\", \"o\", \"ziemię\", \"się\", \"hukło\", \"rosypało\", \"się\",\n",
        "        #   \"po\", \"kątach\"]\n",
        "stopwords = [\"z\", \"o\", \"po\", \"się\"]\n",
        "\n",
        "# TODO"
      ]
    },
    {
      "cell_type": "markdown",
      "metadata": {
        "id": "3UU1DvRtxQCc"
      },
      "source": [
        "## Zadanie domowe"
      ]
    },
    {
      "cell_type": "markdown",
      "metadata": {
        "id": "nfVg6PUEGyOb"
      },
      "source": [
        "### Zadanie 1.\n",
        "\n",
        "Stwórz funkcję, która pozwoli dla podanego tekstu (pojedynczy łańcuch znaków) oczyścić go z: linków, nazw użytkowników, hasztagów, znaków: przełamania linii, znaku &, „RT”, a także liczb (cyfr) i znaków przestankowych.\n",
        "\n",
        "Następnie oczyść teksty tweetów na temat kawy."
      ]
    },
    {
      "cell_type": "code",
      "execution_count": null,
      "metadata": {
        "id": "nPLATtsoEexz"
      },
      "outputs": [],
      "source": [
        "tekst = [\"@ayyytylerb that is so true drink lots of coffee\",\n",
        "\"RT @bryzy_brib: Senior March tmw morning at 7:25 A.M. in the SENIOR lot. Get up early, make yo coffee/breakfast, cus this will only happen ?\",\n",
        "\"If you believe in #gunsense tomorrow would be a very good day to have your coffee any place BUT @Starbucks Guns+Coffee=#nosense @MomsDemand\",\n",
        "\"My cute coffee mug. http://t.co/2udvMU6XIG\",\n",
        "\"RT @slaredo21: I wish we had Starbucks here... Cause coffee dates in the morning sound perff!\",\n",
        "\"Does anyone ever get a cup of coffee before a cocktail??\",\n",
        "\"I like my coffee like I like my women...black, bitter, and preferably fair trade. I love #Archer\",\n",
        "\"@dreamwwediva ya didn't have coffee did ya?\",\n",
        "\"RT @iDougherty42: I just want some coffee.\",\n",
        "\"RT @Dorkv76: I can't care before coffee.\",\n",
        "\"No lie I wouldn't mind coming home smelling like coffee\",\n",
        "\"RT @JonasWorldFeed: Play Ping Pong with Joe. Take a tour of the stage with Nick. Have coffee with Kevin. Charity auction: https://t.co/VTkK?\",\n",
        "\"Have I ever told any of you that Tate Donovan bought my stepmom coffee?\",\n",
        "\"RT @JonasWorldFeed: Play Ping Pong with Joe. Take a tour of the stage with Nick. Have coffee with Kevin. Charity auction: https://t.co/VTkK?\",\n",
        "\"@HeatherWhaley I was about 2 joke it takes 2 hands to hold hot coffee...then I read headline! #Don'tDrinkNShoot\",\n",
        "\"RT @MoveTheSticks: Charlie Whitehurst looks like he should be working at a coffee shop in Portland or hosting a renovation show on HGTV.\",\n",
        "\"Coffee always makes everything better.\",\n",
        "\"RT @AdelaideReview: Food For Thought: @Annabelleats shares a delicious Venison and Porcini Mushroom Pie Recipe. http://t.co/N8O7vqFKWN http?\",\n",
        "\"RT @LittleMelss: lmfao!!!@bryanlaca: nahhh Melanie u is fa sho like an ummm a Coffee table ;) ) yeeeee lmaoo\",\n",
        "\"I wonder if Christian Colon will get a cup of coffee once the rosters expand to 40 man in September. Really nothing to lose by doing so.\"]"
      ]
    },
    {
      "cell_type": "markdown",
      "metadata": {
        "id": "oatqE6wfG2Ra"
      },
      "source": [
        "#### Zadanie 2.\n",
        "\n",
        "Z oczyszczonych tekstów, wyodrębnij tokeny i usuń nieistotne słowa (skorzystaj z zestawu [stopwords](https://www.textfixer.com/tutorials/common-english-words.txt))\n"
      ]
    }
  ],
  "metadata": {
    "colab": {
      "provenance": [],
      "include_colab_link": true
    },
    "kernelspec": {
      "display_name": "Python 3",
      "language": "python",
      "name": "python3"
    },
    "language_info": {
      "codemirror_mode": {
        "name": "ipython",
        "version": 3
      },
      "file_extension": ".py",
      "mimetype": "text/x-python",
      "name": "python",
      "nbconvert_exporter": "python",
      "pygments_lexer": "ipython3",
      "version": "3.12.3"
    },
    "toc": {
      "base_numbering": 1,
      "nav_menu": {},
      "number_sections": true,
      "sideBar": true,
      "skip_h1_title": false,
      "title_cell": "Table of Contents",
      "title_sidebar": "Contents",
      "toc_cell": false,
      "toc_position": {},
      "toc_section_display": true,
      "toc_window_display": false
    }
  },
  "nbformat": 4,
  "nbformat_minor": 0
}